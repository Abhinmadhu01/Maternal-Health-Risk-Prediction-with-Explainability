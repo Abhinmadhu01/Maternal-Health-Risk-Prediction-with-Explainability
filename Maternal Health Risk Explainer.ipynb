{
 "cells": [
  {
   "cell_type": "markdown",
   "metadata": {
    "id": "ctwxaRUPnBiP"
   },
   "source": [
    "# Maternal Health Risk Prediction with Explainability\n",
    "This notebook improves the prediction of maternal health risks using a Random Forest classifier and integrates SHAP for explainability.\n",
    "\n",
    "### Key Features:\n",
    "- **Improved Low-Risk Predictions:** Addressed class imbalance using SMOTE.\n",
    "- **SHAP Explainability:** Added explanations for \"High Risk\" and \"Mid Risk\" predictions.\n",
    "- **Manual Input:** Allows users to input custom values and predict their risk level.\n"
   ]
  },
  {
   "cell_type": "code",
   "execution_count": 65,
   "metadata": {
    "executionInfo": {
     "elapsed": 11528,
     "status": "ok",
     "timestamp": 1746031947527,
     "user": {
      "displayName": "Abhin M",
      "userId": "15377283572635721430"
     },
     "user_tz": -330
    },
    "id": "gxJGhPx7nBiU"
   },
   "outputs": [],
   "source": [
    "# Import libraries\n",
    "import pandas as pd\n",
    "import numpy as np\n",
    "from sklearn.model_selection import train_test_split\n",
    "from xgboost import XGBClassifier\n",
    "from sklearn.metrics import classification_report, confusion_matrix, ConfusionMatrixDisplay\n",
    "from imblearn.over_sampling import SMOTE\n",
    "import joblib"
   ]
  },
  {
   "cell_type": "code",
   "execution_count": 66,
   "metadata": {
    "executionInfo": {
     "elapsed": 55,
     "status": "ok",
     "timestamp": 1746031987042,
     "user": {
      "displayName": "Abhin M",
      "userId": "15377283572635721430"
     },
     "user_tz": -330
    },
    "id": "2Taz4QWxnBiU"
   },
   "outputs": [],
   "source": [
    "# Load data\n",
    "df = pd.read_csv('Dataset - Updated.csv')\n",
    "\n",
    "# Separate features (X) and target (y)\n",
    "X = df.drop(columns=['RiskLevel'])  # Drop only 'RiskLevel' from features\n",
    "y = df['RiskLevel']  # Use only 'RiskLevel' as target\n",
    "\n",
    "# Convert categorical target 'RiskLevel' to numerical values\n",
    "y = y.map({'low risk': 0, 'high risk': 1})  # Only two categories: low risk and high risk\n",
    "\n",
    "# Handle missing values for numeric columns\n",
    "numeric_cols = X.select_dtypes(include=[np.number]).columns\n",
    "X[numeric_cols] = X[numeric_cols].fillna(X[numeric_cols].mean())\n",
    "\n",
    "# Handle missing values for categorical columns (if any)\n",
    "categorical_cols = X.select_dtypes(include=['object']).columns\n",
    "for col in categorical_cols:\n",
    "    X[col] = X[col].fillna(X[col].mode()[0])  # Fill missing with mode"
   ]
  },
  {
   "cell_type": "code",
   "execution_count": 67,
   "metadata": {
    "colab": {
     "base_uri": "https://localhost:8080/",
     "height": 631
    },
    "executionInfo": {
     "elapsed": 1701,
     "status": "ok",
     "timestamp": 1746031990783,
     "user": {
      "displayName": "Abhin M",
      "userId": "15377283572635721430"
     },
     "user_tz": -330
    },
    "id": "NzVEHEo8nBiU",
    "outputId": "5749a084-fb7a-49e1-c09f-c399f8e20f7a"
   },
   "outputs": [],
   "source": [
    "# Train-test split\n",
    "X_train, X_test, y_train, y_test = train_test_split(X, y, test_size=0.2, random_state=42)"
   ]
  },
  {
   "cell_type": "code",
   "execution_count": 69,
   "metadata": {
    "colab": {
     "base_uri": "https://localhost:8080/",
     "height": 486
    },
    "executionInfo": {
     "elapsed": 408,
     "status": "ok",
     "timestamp": 1746031998795,
     "user": {
      "displayName": "Abhin M",
      "userId": "15377283572635721430"
     },
     "user_tz": -330
    },
    "id": "wiWn9zS7nBiV",
    "outputId": "4d6009bf-f5a4-4282-bf61-5fb0f78b647e"
   },
   "outputs": [],
   "source": [
    "# Oversample the RiskLevel column\n",
    "smote = SMOTE(random_state=42)\n",
    "X_resampled, y_resampled_risk = smote.fit_resample(X_train, y_train)"
   ]
  },
  {
   "cell_type": "code",
   "execution_count": 70,
   "metadata": {
    "colab": {
     "base_uri": "https://localhost:8080/"
    },
    "executionInfo": {
     "elapsed": 72,
     "status": "ok",
     "timestamp": 1746032124509,
     "user": {
      "displayName": "Abhin M",
      "userId": "15377283572635721430"
     },
     "user_tz": -330
    },
    "id": "zeEtQnkQnBiW",
    "outputId": "6ec8f61a-91c2-4f82-91f5-8f346024fba7"
   },
   "outputs": [
    {
     "name": "stdout",
     "output_type": "stream",
     "text": [
      "Fitting 3 folds for each of 108 candidates, totalling 324 fits\n"
     ]
    }
   ],
   "source": [
    "from sklearn.model_selection import GridSearchCV\n",
    "\n",
    "param_grid = {\n",
    "    'n_estimators': [50, 100, 200],\n",
    "    'learning_rate': [0.01, 0.1, 0.2],\n",
    "    'max_depth': [3, 5, 7],\n",
    "    'subsample': [0.8, 1.0],\n",
    "    'colsample_bytree': [0.8, 1.0]\n",
    "}\n",
    "\n",
    "grid_search = GridSearchCV(\n",
    "    estimator=XGBClassifier(random_state=42),\n",
    "    param_grid=param_grid,\n",
    "    scoring='accuracy',\n",
    "    cv=3,\n",
    "    verbose=1\n",
    ")\n",
    "\n",
    "grid_search.fit(X_resampled, y_resampled_risk)\n",
    "model = grid_search.best_estimator_"
   ]
  },
  {
   "cell_type": "code",
   "execution_count": 71,
   "metadata": {},
   "outputs": [
    {
     "name": "stdout",
     "output_type": "stream",
     "text": [
      "              precision    recall  f1-score   support\n",
      "\n",
      "    Low Risk       0.99      0.99      0.99       148\n",
      "   High Risk       0.98      0.99      0.98        86\n",
      "\n",
      "    accuracy                           0.99       234\n",
      "   macro avg       0.99      0.99      0.99       234\n",
      "weighted avg       0.99      0.99      0.99       234\n",
      "\n"
     ]
    },
    {
     "data": {
      "text/plain": [
       "<sklearn.metrics._plot.confusion_matrix.ConfusionMatrixDisplay at 0x27d6eab88c0>"
      ]
     },
     "execution_count": 71,
     "metadata": {},
     "output_type": "execute_result"
    },
    {
     "data": {
      "image/png": "[encoded data removed]",
      "text/plain": [
       "<Figure size 640x480 with 2 Axes>"
      ]
     },
     "metadata": {},
     "output_type": "display_data"
    }
   ],
   "source": [
    "# Make predictions\n",
    "y_pred = model.predict(X_test)\n",
    "\n",
    "# Map numerical RiskLevel back to categorical values\n",
    "risk_map = {0: 'Low Risk', 1: 'High Risk'}  # Only two categories\n",
    "y_pred_risk = [risk_map[risk] for risk in y_pred]\n",
    "\n",
    "# Evaluate the model\n",
    "print(classification_report(y_test, y_pred, target_names=['Low Risk', 'High Risk']))\n",
    "\n",
    "# Visualize confusion matrix\n",
    "ConfusionMatrixDisplay.from_predictions(y_test, y_pred, display_labels=['Low Risk', 'High Risk'])"
   ]
  },
  {
   "cell_type": "code",
   "execution_count": 79,
   "metadata": {},
   "outputs": [
    {
     "name": "stdout",
     "output_type": "stream",
     "text": [
      "Predicted Risk Level: Low Risk\n"
     ]
    }
   ],
   "source": [
    "# Example: Define manual_input_df with sample values\n",
    "# Replace the dictionary below with actual input values as needed\n",
    "manual_input_data = {\n",
    "    col: [X_train.iloc[8][col]] for col in X_train.columns  # Use first row as template\n",
    "}\n",
    "manual_input_df = pd.DataFrame(manual_input_data)\n",
    "\n",
    "# Predict RiskLevel for user input\n",
    "prediction = model.predict(manual_input_df)\n",
    "\n",
    "# Decode RiskLevel\n",
    "risk_map = {0: 'Low Risk', 1: 'High Risk'}  # Only two categories\n",
    "predicted_risk = risk_map[prediction[0]]\n",
    "\n",
    "# Display the response\n",
    "print(f\"Predicted Risk Level: {predicted_risk}\")"
   ]
  }
 ],
 "metadata": {
  "colab": {
   "provenance": []
  },
  "kernelspec": {
   "display_name": "Python 3",
   "language": "python",
   "name": "python3"
  },
  "language_info": {
   "codemirror_mode": {
    "name": "ipython",
    "version": 3
   },
   "file_extension": ".py",
   "mimetype": "text/x-python",
   "name": "python",
   "nbconvert_exporter": "python",
   "pygments_lexer": "ipython3",
   "version": "3.12.5"
  }
 },
 "nbformat": 4,
 "nbformat_minor": 0
}
